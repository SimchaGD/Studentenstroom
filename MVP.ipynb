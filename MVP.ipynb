{
 "cells": [
  {
   "cell_type": "code",
   "execution_count": 29,
   "metadata": {},
   "outputs": [],
   "source": [
    "import pandas as pd\n",
    "import geopandas as gpd\n",
    "import cbsodata"
   ]
  },
  {
   "cell_type": "code",
   "execution_count": 30,
   "metadata": {},
   "outputs": [],
   "source": [
    "# Zoek op welke data beschikbaar is\n",
    "metadata = pd.DataFrame(cbsodata.get_meta('83765NED', 'DataProperties'))"
   ]
  },
  {
   "cell_type": "code",
   "execution_count": 31,
   "metadata": {},
   "outputs": [
    {
     "data": {
      "text/html": [
       "<div>\n",
       "<style scoped>\n",
       "    .dataframe tbody tr th:only-of-type {\n",
       "        vertical-align: middle;\n",
       "    }\n",
       "\n",
       "    .dataframe tbody tr th {\n",
       "        vertical-align: top;\n",
       "    }\n",
       "\n",
       "    .dataframe thead th {\n",
       "        text-align: right;\n",
       "    }\n",
       "</style>\n",
       "<table border=\"1\" class=\"dataframe\">\n",
       "  <thead>\n",
       "    <tr style=\"text-align: right;\">\n",
       "      <th></th>\n",
       "      <th>Perioden</th>\n",
       "      <th>Regio</th>\n",
       "      <th>Binnen gemeenten verhuisde personen/Naar geslacht en leeftijd (31 december)/Totaal mannen en vrouwen/15 tot 20 jaar (aantal)</th>\n",
       "      <th>Binnen gemeenten verhuisde personen/Naar geslacht en leeftijd (31 december)/Totaal mannen en vrouwen/20 tot 25 jaar (aantal)</th>\n",
       "      <th>Tussen gemeenten verhuisde personen/Gevestigd in de gemeente/Naar geslacht en leeftijd (31 december)/Totaal mannen en vrouwen/15 tot 20 jaar (aantal)</th>\n",
       "      <th>Tussen gemeenten verhuisde personen/Gevestigd in de gemeente/Naar geslacht en leeftijd (31 december)/Totaal mannen en vrouwen/20 tot 25 jaar (aantal)</th>\n",
       "      <th>Tussen gemeenten verhuisde personen/Vertrokken uit de gemeente/Naar geslacht en leeftijd (31 december)/Totaal mannen en vrouwen/15 tot 20 jaar (aantal)</th>\n",
       "      <th>Tussen gemeenten verhuisde personen/Vertrokken uit de gemeente/Naar geslacht en leeftijd (31 december)/Totaal mannen en vrouwen/20 tot 25 jaar (aantal)</th>\n",
       "    </tr>\n",
       "  </thead>\n",
       "  <tbody>\n",
       "    <tr>\n",
       "      <th>0</th>\n",
       "      <td>2018</td>\n",
       "      <td>Aa en Hunze</td>\n",
       "      <td>50.0</td>\n",
       "      <td>59.0</td>\n",
       "      <td>72.0</td>\n",
       "      <td>178.0</td>\n",
       "      <td>123.0</td>\n",
       "      <td>246.0</td>\n",
       "    </tr>\n",
       "    <tr>\n",
       "      <th>1</th>\n",
       "      <td>2018</td>\n",
       "      <td>Aalburg</td>\n",
       "      <td>33.0</td>\n",
       "      <td>49.0</td>\n",
       "      <td>18.0</td>\n",
       "      <td>58.0</td>\n",
       "      <td>31.0</td>\n",
       "      <td>89.0</td>\n",
       "    </tr>\n",
       "    <tr>\n",
       "      <th>2</th>\n",
       "      <td>2018</td>\n",
       "      <td>Aalsmeer</td>\n",
       "      <td>71.0</td>\n",
       "      <td>80.0</td>\n",
       "      <td>65.0</td>\n",
       "      <td>154.0</td>\n",
       "      <td>74.0</td>\n",
       "      <td>175.0</td>\n",
       "    </tr>\n",
       "    <tr>\n",
       "      <th>3</th>\n",
       "      <td>2018</td>\n",
       "      <td>Aalten</td>\n",
       "      <td>70.0</td>\n",
       "      <td>123.0</td>\n",
       "      <td>31.0</td>\n",
       "      <td>136.0</td>\n",
       "      <td>80.0</td>\n",
       "      <td>134.0</td>\n",
       "    </tr>\n",
       "    <tr>\n",
       "      <th>8</th>\n",
       "      <td>2018</td>\n",
       "      <td>Achtkarspelen</td>\n",
       "      <td>85.0</td>\n",
       "      <td>156.0</td>\n",
       "      <td>76.0</td>\n",
       "      <td>159.0</td>\n",
       "      <td>87.0</td>\n",
       "      <td>186.0</td>\n",
       "    </tr>\n",
       "  </tbody>\n",
       "</table>\n",
       "</div>"
      ],
      "text/plain": [
       "   Perioden          Regio  \\\n",
       "0      2018    Aa en Hunze   \n",
       "1      2018        Aalburg   \n",
       "2      2018       Aalsmeer   \n",
       "3      2018         Aalten   \n",
       "8      2018  Achtkarspelen   \n",
       "\n",
       "   Binnen gemeenten verhuisde personen/Naar geslacht en leeftijd (31 december)/Totaal mannen en vrouwen/15 tot 20 jaar (aantal)  \\\n",
       "0                                               50.0                                                                              \n",
       "1                                               33.0                                                                              \n",
       "2                                               71.0                                                                              \n",
       "3                                               70.0                                                                              \n",
       "8                                               85.0                                                                              \n",
       "\n",
       "   Binnen gemeenten verhuisde personen/Naar geslacht en leeftijd (31 december)/Totaal mannen en vrouwen/20 tot 25 jaar (aantal)  \\\n",
       "0                                               59.0                                                                              \n",
       "1                                               49.0                                                                              \n",
       "2                                               80.0                                                                              \n",
       "3                                              123.0                                                                              \n",
       "8                                              156.0                                                                              \n",
       "\n",
       "   Tussen gemeenten verhuisde personen/Gevestigd in de gemeente/Naar geslacht en leeftijd (31 december)/Totaal mannen en vrouwen/15 tot 20 jaar (aantal)  \\\n",
       "0                                               72.0                                                                                                       \n",
       "1                                               18.0                                                                                                       \n",
       "2                                               65.0                                                                                                       \n",
       "3                                               31.0                                                                                                       \n",
       "8                                               76.0                                                                                                       \n",
       "\n",
       "   Tussen gemeenten verhuisde personen/Gevestigd in de gemeente/Naar geslacht en leeftijd (31 december)/Totaal mannen en vrouwen/20 tot 25 jaar (aantal)  \\\n",
       "0                                              178.0                                                                                                       \n",
       "1                                               58.0                                                                                                       \n",
       "2                                              154.0                                                                                                       \n",
       "3                                              136.0                                                                                                       \n",
       "8                                              159.0                                                                                                       \n",
       "\n",
       "   Tussen gemeenten verhuisde personen/Vertrokken uit de gemeente/Naar geslacht en leeftijd (31 december)/Totaal mannen en vrouwen/15 tot 20 jaar (aantal)  \\\n",
       "0                                              123.0                                                                                                         \n",
       "1                                               31.0                                                                                                         \n",
       "2                                               74.0                                                                                                         \n",
       "3                                               80.0                                                                                                         \n",
       "8                                               87.0                                                                                                         \n",
       "\n",
       "   Tussen gemeenten verhuisde personen/Vertrokken uit de gemeente/Naar geslacht en leeftijd (31 december)/Totaal mannen en vrouwen/20 tot 25 jaar (aantal)  \n",
       "0                                              246.0                                                                                                        \n",
       "1                                               89.0                                                                                                        \n",
       "2                                              175.0                                                                                                        \n",
       "3                                              134.0                                                                                                        \n",
       "8                                              186.0                                                                                                        "
      ]
     },
     "execution_count": 31,
     "metadata": {},
     "output_type": "execute_result"
    }
   ],
   "source": [
    "dfStudenten = pd.read_csv(\"VerhuisdePersonen15-25.csv\", sep = \";\")\n",
    "dfStudenten = dfStudenten.dropna()\n",
    "dfStudenten = dfStudenten.rename(columns = {\"Regio's\": \"Regio\"})\n",
    "dfStudenten.head()"
   ]
  },
  {
   "cell_type": "code",
   "execution_count": 32,
   "metadata": {},
   "outputs": [],
   "source": [
    "geodata_url = \"https://geodata.nationaalgeoregister.nl/cbsgebiedsindelingen/wfs?request=GetFeature&service=WFS&version=2.0.0&typeName=cbs_gemeente_2017_gegeneraliseerd&outputFormat=json\"\n",
    "gemeentegrenzen = gpd.read_file(geodata_url)"
   ]
  },
  {
   "cell_type": "code",
   "execution_count": 33,
   "metadata": {},
   "outputs": [],
   "source": [
    "gemeentegrenzen = pd.merge(gemeentegrenzen, dfStudenten,\n",
    "                           left_on = \"statcode\", \n",
    "                           right_on = \"Regio\")"
   ]
  },
  {
   "cell_type": "code",
   "execution_count": 34,
   "metadata": {},
   "outputs": [
    {
     "name": "stderr",
     "output_type": "stream",
     "text": [
      "C:\\Users\\simcha\\Anaconda3\\lib\\site-packages\\geopandas\\plotting.py:487: UserWarning: The GeoDataFrame you are attempting to plot is empty. Nothing has been displayed.\n",
      "  UserWarning,\n"
     ]
    },
    {
     "data": {
      "text/plain": [
       "Text(0.5,1,'Levend geborenen per 1000 inwoners, 2017')"
      ]
     },
     "execution_count": 34,
     "metadata": {},
     "output_type": "execute_result"
    },
    {
     "data": {
      "image/png": "[encoded data removed]",
      "text/plain": [
       "<Figure size 720x576 with 1 Axes>"
      ]
     },
     "metadata": {
      "needs_background": "light"
     },
     "output_type": "display_data"
    }
   ],
   "source": [
    "# Maak een thematische kaart\n",
    "p = gemeentegrenzen.plot(column='Tussen gemeenten verhuisde personen/Vertrokken uit de gemeente/Naar geslacht en leeftijd (31 december)/Totaal mannen en vrouwen/20 tot 25 jaar (aantal)', \n",
    "                         figsize = (10,8))\n",
    "p.axis('off')\n",
    "p.set_title('Levend geborenen per 1000 inwoners, 2017')"
   ]
  },
  {
   "cell_type": "code",
   "execution_count": null,
   "metadata": {},
   "outputs": [],
   "source": []
  }
 ],
 "metadata": {
  "kernelspec": {
   "display_name": "Python 3",
   "language": "python",
   "name": "python3"
  },
  "language_info": {
   "codemirror_mode": {
    "name": "ipython",
    "version": 3
   },
   "file_extension": ".py",
   "mimetype": "text/x-python",
   "name": "python",
   "nbconvert_exporter": "python",
   "pygments_lexer": "ipython3",
   "version": "3.7.1"
  }
 },
 "nbformat": 4,
 "nbformat_minor": 2
}
