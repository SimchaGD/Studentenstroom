{
 "cells": [
  {
   "cell_type": "code",
   "execution_count": 2,
   "metadata": {},
   "outputs": [],
   "source": [
    "import pandas as pd\n",
    "from bs4 import BeautifulSoup as BS\n",
    "import requests\n",
    "from tqdm import tqdm as tqdm"
   ]
  },
  {
   "cell_type": "code",
   "execution_count": 13,
   "metadata": {},
   "outputs": [],
   "source": [
    "base_url = 'https://nl.wikipedia.org/wiki/Lijst_van_voormalige_Nederlandse_gemeenten?oldformat=true'\n",
    "response = requests.get(base_url)\n",
    "soup = BS(response.text, \"html.parser\")"
   ]
  },
  {
   "cell_type": "code",
   "execution_count": 46,
   "metadata": {},
   "outputs": [],
   "source": [
    "table = soup.find(\"table\", class_ = \"wikitable sortable\")\n",
    "rows = table.find_all(\"tr\")\n",
    "colHeader = rows[0].find_all(\"th\")"
   ]
  },
  {
   "cell_type": "code",
   "execution_count": 49,
   "metadata": {},
   "outputs": [
    {
     "data": {
      "text/html": [
       "<div>\n",
       "<style scoped>\n",
       "    .dataframe tbody tr th:only-of-type {\n",
       "        vertical-align: middle;\n",
       "    }\n",
       "\n",
       "    .dataframe tbody tr th {\n",
       "        vertical-align: top;\n",
       "    }\n",
       "\n",
       "    .dataframe thead th {\n",
       "        text-align: right;\n",
       "    }\n",
       "</style>\n",
       "<table border=\"1\" class=\"dataframe\">\n",
       "  <thead>\n",
       "    <tr style=\"text-align: right;\">\n",
       "      <th></th>\n",
       "      <th>A'damse code[1]</th>\n",
       "      <th>CBS-code</th>\n",
       "      <th>Provincie</th>\n",
       "      <th>Gemeente</th>\n",
       "      <th>Alternatieve namen</th>\n",
       "      <th>Burgemeesters</th>\n",
       "      <th>Bestaan vanaf</th>\n",
       "      <th>Ontstaan uit</th>\n",
       "      <th>Bestaan tot</th>\n",
       "      <th>Opgegaan in</th>\n",
       "      <th>Opmerkingen</th>\n",
       "    </tr>\n",
       "  </thead>\n",
       "  <tbody>\n",
       "  </tbody>\n",
       "</table>\n",
       "</div>"
      ],
      "text/plain": [
       "Empty DataFrame\n",
       "Columns: [A'damse code[1], CBS-code, Provincie, Gemeente, Alternatieve namen, Burgemeesters, Bestaan vanaf, Ontstaan uit, Bestaan tot, Opgegaan in, Opmerkingen]\n",
       "Index: []"
      ]
     },
     "execution_count": 49,
     "metadata": {},
     "output_type": "execute_result"
    }
   ],
   "source": [
    "colnames = [colHeader[col].get_text().replace(\"\\n\", \"\") for col in range(len(colHeader))]\n",
    "df = pd.DataFrame(columns = colnames)\n",
    "df"
   ]
  },
  {
   "cell_type": "code",
   "execution_count": 72,
   "metadata": {},
   "outputs": [
    {
     "name": "stderr",
     "output_type": "stream",
     "text": [
      "100%|█████████████████████████████████████| 1340/1340 [00:10<00:00, 125.35it/s]\n"
     ]
    }
   ],
   "source": [
    "pbar = tqdm(total = len(rows) - 1)\n",
    "for ir, row in enumerate(rows[1:]):\n",
    "    cols = row.find_all(\"td\")\n",
    "    df.loc[ir, :] = 0\n",
    "    for ic, col in enumerate(cols):\n",
    "        df.iloc[ir, ic] = col.get_text().replace(\"\\n\", \"\")\n",
    "    pbar.update()\n",
    "pbar.close()"
   ]
  },
  {
   "cell_type": "code",
   "execution_count": 75,
   "metadata": {},
   "outputs": [],
   "source": [
    "df.to_csv(\"gemeentelijke_herindeling.csv\", index = False, sep = \";\")"
   ]
  },
  {
   "cell_type": "code",
   "execution_count": null,
   "metadata": {},
   "outputs": [],
   "source": []
  }
 ],
 "metadata": {
  "kernelspec": {
   "display_name": "Python 3",
   "language": "python",
   "name": "python3"
  },
  "language_info": {
   "codemirror_mode": {
    "name": "ipython",
    "version": 3
   },
   "file_extension": ".py",
   "mimetype": "text/x-python",
   "name": "python",
   "nbconvert_exporter": "python",
   "pygments_lexer": "ipython3",
   "version": "3.7.1"
  }
 },
 "nbformat": 4,
 "nbformat_minor": 2
}
